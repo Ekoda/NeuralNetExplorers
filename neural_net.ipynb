{
 "cells": [
  {
   "cell_type": "code",
   "execution_count": 27,
   "metadata": {},
   "outputs": [],
   "source": [
    "import numpy as np\n",
    "import pandas as pd"
   ]
  },
  {
   "cell_type": "code",
   "execution_count": 28,
   "metadata": {},
   "outputs": [],
   "source": [
    "class Neuron:\n",
    "    def __init__(self, n_inputs=2, activation='tanh'):\n",
    "        self.w = np.random.randn(n_inputs) * 0.01\n",
    "        self.b = np.random.randn() * 0.01\n",
    "        self.activation_type = activation\n",
    "        self.output = None\n",
    "        self.inputs = None\n",
    "\n",
    "    def activation(self, n):\n",
    "        if self.activation_type == 'sigmoid':\n",
    "            return 1 / (1 + np.exp(-n))\n",
    "        elif self.activation_type == 'tanh':\n",
    "            return np.tanh(n)\n",
    "\n",
    "    def activation_derivative(self, n):\n",
    "        if self.activation_type == 'sigmoid':\n",
    "            return n * (1 - n)\n",
    "        elif self.activation_type == 'tanh':\n",
    "            return 1 - n ** 2\n",
    "\n",
    "    def forward(self, X):\n",
    "        output = self.activation(np.dot(self.w, X) + self.b)\n",
    "        self.inputs, self.output = X, output\n",
    "        return output"
   ]
  },
  {
   "cell_type": "code",
   "execution_count": 29,
   "metadata": {},
   "outputs": [],
   "source": [
    "def forward_layer(neurons, inputs):\n",
    "    return np.array([neuron.forward(inputs) for neuron in neurons])\n",
    "\n",
    "class InputLayer:\n",
    "    def __init__(self, n_inputs, activation='tanh'):\n",
    "        self.neurons = [Neuron(n_inputs, activation) for _ in range(n_inputs)]\n",
    "\n",
    "    def forward(self, X):\n",
    "        return forward_layer(self.neurons, X)\n",
    "    \n",
    "    \n",
    "class HiddenLayers:\n",
    "    def __init__(self, prev_layer, height, depth, activation='tanh'):\n",
    "        self.depth =  depth\n",
    "        self.layers = [[Neuron(len(prev_layer.neurons), activation) for _ in range(height)]] + [[Neuron(height, activation) for _ in range(height)] for _ in range(depth - 1)]\n",
    "\n",
    "    def forward(self, inputs, layer=0):\n",
    "        if layer == self.depth: return inputs\n",
    "        return self.forward(\n",
    "            forward_layer(self.layers[layer], inputs),\n",
    "            layer + 1\n",
    "        )\n",
    "\n",
    "\n",
    "class OutputLayer:\n",
    "    def __init__(self, prev_layer, height=1, activation='tanh'):\n",
    "        self.neurons = [Neuron(len(prev_layer.layers[-1]), activation) for _ in range(height)]\n",
    "\n",
    "    def forward(self, inputs):\n",
    "        return forward_layer(self.neurons, inputs)"
   ]
  },
  {
   "cell_type": "code",
   "execution_count": 30,
   "metadata": {},
   "outputs": [],
   "source": [
    "class NeuralNetwork:\n",
    "    def __init__(self, input_layer, hidden_layers, output_layer):\n",
    "        self.input_layer = input_layer\n",
    "        self.hidden_layers = hidden_layers\n",
    "        self.output_layer = output_layer\n",
    "\n",
    "    def binary_cross_entropy_loss(self, prediction, y):\n",
    "        return -y * np.log(prediction) - (1 - y) * np.log(1 - prediction)\n",
    "    \n",
    "    def backpropagation(X, y, prediction, learning_rate):\n",
    "        pass\n",
    "\n",
    "    def train (self, X, y, epochs=10, learning_rate=0.05):\n",
    "        pass\n",
    "\n",
    "    def forward_pass(self, X, y=None):\n",
    "        input_layer_output = self.input_layer.forward(X)\n",
    "        hidden_layers_output = self.hidden_layers.forward(input_layer_output)\n",
    "        prediction = self.output_layer.forward(hidden_layers_output)\n",
    "        loss = self.binary_cross_entropy_loss(prediction, y) if y is not None else None\n",
    "        return prediction, loss"
   ]
  },
  {
   "cell_type": "code",
   "execution_count": 31,
   "metadata": {},
   "outputs": [
    {
     "data": {
      "text/plain": [
       "(array([0.49616627]), array([0.70084419]))"
      ]
     },
     "execution_count": 31,
     "metadata": {},
     "output_type": "execute_result"
    }
   ],
   "source": [
    "input_layer = InputLayer(n_inputs=2, activation='tanh')\n",
    "hidden_layers = HiddenLayers(prev_layer=input_layer, height=3, depth=2, activation='tanh')\n",
    "output_layer = OutputLayer(prev_layer=hidden_layers, activation='sigmoid')\n",
    "\n",
    "model = NeuralNetwork(input_layer, hidden_layers, output_layer)\n",
    "\n",
    "model.forward_pass(np.array([1, 2]), 1)"
   ]
  },
  {
   "cell_type": "code",
   "execution_count": 32,
   "metadata": {},
   "outputs": [],
   "source": [
    "class NeuralNetwork:\n",
    "    def __init__(self, input_layer, hidden_layers, output_layer, loss='binary_cross_entropy'):\n",
    "        self.input_layer = input_layer\n",
    "        self.hidden_layers = hidden_layers\n",
    "        self.output_layer = output_layer\n",
    "        self.loss = loss\n",
    "\n",
    "    def calculate_loss(self, predictions, y):\n",
    "        if self.loss == 'binary_cross_entropy':\n",
    "            return [-y * np.log(prediction) - (1 - y) * np.log(1 - prediction) for prediction in predictions]\n",
    "    \n",
    "    def loss_derivative(self, prediction, y):\n",
    "        if self.loss == 'binary_cross_entropy':\n",
    "            return -y / prediction + (1 - y) / (1 - prediction)\n",
    "\n",
    "    def backpropagation(self, X, y, predictions, learning_rate):\n",
    "        \n",
    "        # calculate gradients and update output layer parameters\n",
    "        for neuron, prediction in zip(self.output_layer.neurons, predictions):\n",
    "            bias_gradient = neuron.activation_derivative(prediction) * self.loss_derivative(prediction, y)\n",
    "            weight_gradients = [x * bias_gradient for x in neuron.inputs]\n",
    "            neuron.w -= learning_rate * np.array(weight_gradients)\n",
    "            neuron.b -= learning_rate * bias_gradient\n",
    "        \n",
    "\n",
    "    def train(self, X, y, epochs=10, learning_rate=0.05):\n",
    "        for epoch in range(epochs):\n",
    "            losses = np.array([])\n",
    "            for Xi, yi in zip(X, y):\n",
    "                predictions, loss = self.forward_pass(Xi, yi)\n",
    "                losses = np.append(losses, loss)\n",
    "                self.backpropagation(Xi, yi, predictions, learning_rate)\n",
    "            if epoch < 10 or epoch % 10 == 0:\n",
    "                print(f\"Epoch: {epoch}, Loss: {losses.mean()}\")\n",
    "\n",
    "    def forward_pass(self, X, y=None):\n",
    "        input_layer_output = self.input_layer.forward(X)\n",
    "        hidden_layers_output = self.hidden_layers.forward(input_layer_output)\n",
    "        predictions = self.output_layer.forward(hidden_layers_output)\n",
    "        losses = self.calculate_loss(predictions, y) if y is not None else None\n",
    "        return predictions, losses"
   ]
  },
  {
   "cell_type": "code",
   "execution_count": 33,
   "metadata": {},
   "outputs": [],
   "source": [
    "input_layer = InputLayer(n_inputs=2, activation='tanh')\n",
    "hidden_layers = HiddenLayers(prev_layer=input_layer, height=3, depth=2, activation='tanh')\n",
    "output_layer = OutputLayer(prev_layer=hidden_layers, activation='sigmoid')\n",
    "\n",
    "model = NeuralNetwork(input_layer, hidden_layers, output_layer)"
   ]
  },
  {
   "cell_type": "code",
   "execution_count": 34,
   "metadata": {},
   "outputs": [
    {
     "name": "stdout",
     "output_type": "stream",
     "text": [
      "Epoch: 0, Loss: 0.6902118084523046\n",
      "Epoch: 1, Loss: 0.6814059688338774\n",
      "Epoch: 2, Loss: 0.678877604559719\n"
     ]
    }
   ],
   "source": [
    "df = pd.read_csv('fluffy_or_spikey.csv')\n",
    "X, y = df[['height', 'color']].to_numpy(), df['species'].to_numpy()\n",
    "\n",
    "model.train(X, y, 3)"
   ]
  }
 ],
 "metadata": {
  "kernelspec": {
   "display_name": "base",
   "language": "python",
   "name": "python3"
  },
  "language_info": {
   "codemirror_mode": {
    "name": "ipython",
    "version": 3
   },
   "file_extension": ".py",
   "mimetype": "text/x-python",
   "name": "python",
   "nbconvert_exporter": "python",
   "pygments_lexer": "ipython3",
   "version": "3.9.13"
  },
  "orig_nbformat": 4
 },
 "nbformat": 4,
 "nbformat_minor": 2
}
